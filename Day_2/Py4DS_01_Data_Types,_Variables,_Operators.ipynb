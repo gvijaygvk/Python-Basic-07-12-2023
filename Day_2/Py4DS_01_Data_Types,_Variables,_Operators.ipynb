{
  "nbformat": 4,
  "nbformat_minor": 0,
  "metadata": {
    "colab": {
      "provenance": [],
      "collapsed_sections": [
        "u3kgooO_aEYq",
        "y-G8hu1w3_gK",
        "FDHEslg44CKw",
        "s2eFV76ekxhR",
        "qDUYI0AVewHp",
        "4GU6lfdShd-k",
        "22HwNPFZgout",
        "rbE5gEzWhbFS",
        "jbRuV8qYkMSe",
        "h98INJO-V0eI"
      ],
      "authorship_tag": "ABX9TyMciwWiceeG4PREm3+BMot7",
      "include_colab_link": true
    },
    "kernelspec": {
      "name": "python3",
      "display_name": "Python 3"
    },
    "language_info": {
      "name": "python"
    }
  },
  "cells": [
    {
      "cell_type": "markdown",
      "metadata": {
        "id": "view-in-github",
        "colab_type": "text"
      },
      "source": [
        "<a href=\"https://colab.research.google.com/github/gvijaygvk/Python-Basic-07-12-2023/blob/master/Day_2/Py4DS_01_Data_Types%2C_Variables%2C_Operators.ipynb\" target=\"_parent\"><img src=\"https://colab.research.google.com/assets/colab-badge.svg\" alt=\"Open In Colab\"/></a>"
      ]
    },
    {
      "cell_type": "markdown",
      "source": [
        "#Python for Data Science\n",
        "\n",
        "\n",
        "\n"
      ],
      "metadata": {
        "id": "8xs1KNlELqda"
      }
    },
    {
      "cell_type": "markdown",
      "source": [
        "#Data Types\n"
      ],
      "metadata": {
        "id": "u3kgooO_aEYq"
      }
    },
    {
      "cell_type": "markdown",
      "source": [
        "##Numbers\n",
        "\n",
        "\n"
      ],
      "metadata": {
        "id": "huyMZZC7bV8x"
      }
    },
    {
      "cell_type": "markdown",
      "source": [
        "###Integer"
      ],
      "metadata": {
        "id": "y-G8hu1w3_gK"
      }
    },
    {
      "cell_type": "code",
      "source": [
        "-2"
      ],
      "metadata": {
        "id": "9QAuYnMeaM50",
        "colab": {
          "base_uri": "https://localhost:8080/"
        },
        "outputId": "acdefdc6-7352-4bfa-d111-60924085bae5"
      },
      "execution_count": null,
      "outputs": [
        {
          "output_type": "execute_result",
          "data": {
            "text/plain": [
              "-2"
            ]
          },
          "metadata": {},
          "execution_count": 4
        }
      ]
    },
    {
      "cell_type": "code",
      "source": [
        "type(-2)"
      ],
      "metadata": {
        "id": "J9V1gnUadPgH",
        "colab": {
          "base_uri": "https://localhost:8080/"
        },
        "outputId": "70e8a5a5-e352-4086-c170-4a2d82f1a213"
      },
      "execution_count": null,
      "outputs": [
        {
          "output_type": "execute_result",
          "data": {
            "text/plain": [
              "int"
            ]
          },
          "metadata": {},
          "execution_count": 5
        }
      ]
    },
    {
      "cell_type": "markdown",
      "source": [
        "### Float"
      ],
      "metadata": {
        "id": "FDHEslg44CKw"
      }
    },
    {
      "cell_type": "code",
      "source": [
        "5.05546"
      ],
      "metadata": {
        "id": "0_qGTwP9dc6e",
        "colab": {
          "base_uri": "https://localhost:8080/"
        },
        "outputId": "e2f4058e-d74b-48a0-c8b6-64ad6897c147"
      },
      "execution_count": null,
      "outputs": [
        {
          "output_type": "execute_result",
          "data": {
            "text/plain": [
              "5.05546"
            ]
          },
          "metadata": {},
          "execution_count": 6
        }
      ]
    },
    {
      "cell_type": "code",
      "source": [
        "type(-5.054545)"
      ],
      "metadata": {
        "id": "MB2N_awMdPyV",
        "colab": {
          "base_uri": "https://localhost:8080/"
        },
        "outputId": "2367807e-03bc-4a5b-c3ab-cc1baeeab7b2"
      },
      "execution_count": null,
      "outputs": [
        {
          "output_type": "execute_result",
          "data": {
            "text/plain": [
              "float"
            ]
          },
          "metadata": {},
          "execution_count": 8
        }
      ]
    },
    {
      "cell_type": "markdown",
      "source": [
        "##String"
      ],
      "metadata": {
        "id": "s2eFV76ekxhR"
      }
    },
    {
      "cell_type": "code",
      "source": [
        "'This i a string'"
      ],
      "metadata": {
        "colab": {
          "base_uri": "https://localhost:8080/",
          "height": 35
        },
        "id": "ParhwpoklLfJ",
        "outputId": "891f4fb4-de26-4a72-d91b-5cbe0c38f091"
      },
      "execution_count": null,
      "outputs": [
        {
          "output_type": "execute_result",
          "data": {
            "text/plain": [
              "'This i a string'"
            ],
            "application/vnd.google.colaboratory.intrinsic+json": {
              "type": "string"
            }
          },
          "metadata": {},
          "execution_count": 26
        }
      ]
    },
    {
      "cell_type": "code",
      "source": [
        "\"This is also a string 2454 !@!@\""
      ],
      "metadata": {
        "colab": {
          "base_uri": "https://localhost:8080/",
          "height": 35
        },
        "id": "KQ28gjEulQQg",
        "outputId": "c99d12e6-2f8a-4fe2-f930-548952cdd73d"
      },
      "execution_count": null,
      "outputs": [
        {
          "output_type": "execute_result",
          "data": {
            "text/plain": [
              "'This is also a string 2454 !@!@'"
            ],
            "application/vnd.google.colaboratory.intrinsic+json": {
              "type": "string"
            }
          },
          "metadata": {},
          "execution_count": 9
        }
      ]
    },
    {
      "cell_type": "code",
      "source": [
        "type('\"This is also a string 2454 !@!@\"')"
      ],
      "metadata": {
        "colab": {
          "base_uri": "https://localhost:8080/"
        },
        "id": "lcRTsfAHloF6",
        "outputId": "577d6135-d0d5-4c33-9ae3-7b1ed8923c87"
      },
      "execution_count": null,
      "outputs": [
        {
          "output_type": "execute_result",
          "data": {
            "text/plain": [
              "str"
            ]
          },
          "metadata": {},
          "execution_count": 10
        }
      ]
    },
    {
      "cell_type": "code",
      "source": [
        "type(\"Hi\")"
      ],
      "metadata": {
        "colab": {
          "base_uri": "https://localhost:8080/"
        },
        "id": "bXL7f_qtlrf7",
        "outputId": "5e4412cc-c08b-4f80-e857-b278d6a3cf3d"
      },
      "execution_count": null,
      "outputs": [
        {
          "output_type": "execute_result",
          "data": {
            "text/plain": [
              "str"
            ]
          },
          "metadata": {},
          "execution_count": 34
        }
      ]
    },
    {
      "cell_type": "code",
      "source": [
        "\"'I'm good\""
      ],
      "metadata": {
        "colab": {
          "base_uri": "https://localhost:8080/",
          "height": 35
        },
        "id": "rGdnI92IlUab",
        "outputId": "4258a41f-d099-46b8-f476-e0941ba883bb"
      },
      "execution_count": null,
      "outputs": [
        {
          "output_type": "execute_result",
          "data": {
            "text/plain": [
              "\"'I'm good\""
            ],
            "application/vnd.google.colaboratory.intrinsic+json": {
              "type": "string"
            }
          },
          "metadata": {},
          "execution_count": 12
        }
      ]
    },
    {
      "cell_type": "code",
      "source": [
        "'He said \"Hello\"'"
      ],
      "metadata": {
        "colab": {
          "base_uri": "https://localhost:8080/",
          "height": 35
        },
        "id": "4TeA0iQLlY7F",
        "outputId": "d30d040c-cde3-4baf-e066-dd3ff0090271"
      },
      "execution_count": null,
      "outputs": [
        {
          "output_type": "execute_result",
          "data": {
            "text/plain": [
              "'He said \"Hello\"'"
            ],
            "application/vnd.google.colaboratory.intrinsic+json": {
              "type": "string"
            }
          },
          "metadata": {},
          "execution_count": 30
        }
      ]
    },
    {
      "cell_type": "code",
      "source": [],
      "metadata": {
        "id": "oIXyE0cjc-zc"
      },
      "execution_count": null,
      "outputs": []
    },
    {
      "cell_type": "markdown",
      "source": [
        "##Boolean"
      ],
      "metadata": {
        "id": "y-9eRTbcl1ks"
      }
    },
    {
      "cell_type": "code",
      "source": [
        "True"
      ],
      "metadata": {
        "colab": {
          "base_uri": "https://localhost:8080/"
        },
        "id": "6ql2yLoml6hH",
        "outputId": "379bb2a2-3172-4c94-c368-ce0ec5197782"
      },
      "execution_count": null,
      "outputs": [
        {
          "output_type": "execute_result",
          "data": {
            "text/plain": [
              "True"
            ]
          },
          "metadata": {},
          "execution_count": 46
        }
      ]
    },
    {
      "cell_type": "code",
      "source": [
        "False"
      ],
      "metadata": {
        "colab": {
          "base_uri": "https://localhost:8080/"
        },
        "id": "ecfGet-Tl8Il",
        "outputId": "4e9a8916-26d1-4457-a851-7061a4d5a9df"
      },
      "execution_count": null,
      "outputs": [
        {
          "output_type": "execute_result",
          "data": {
            "text/plain": [
              "False"
            ]
          },
          "metadata": {},
          "execution_count": 47
        }
      ]
    },
    {
      "cell_type": "code",
      "source": [
        "type(True)"
      ],
      "metadata": {
        "colab": {
          "base_uri": "https://localhost:8080/"
        },
        "id": "c35vyVuVl-fU",
        "outputId": "174adae9-1b0d-4fef-c669-04569f9a2aaf"
      },
      "execution_count": null,
      "outputs": [
        {
          "output_type": "execute_result",
          "data": {
            "text/plain": [
              "bool"
            ]
          },
          "metadata": {},
          "execution_count": 48
        }
      ]
    },
    {
      "cell_type": "code",
      "source": [
        "type(False)"
      ],
      "metadata": {
        "colab": {
          "base_uri": "https://localhost:8080/"
        },
        "id": "QVb2dxvQmBpY",
        "outputId": "86bad02e-b5ee-4479-eb58-a94b3bdd40ba"
      },
      "execution_count": null,
      "outputs": [
        {
          "output_type": "execute_result",
          "data": {
            "text/plain": [
              "bool"
            ]
          },
          "metadata": {},
          "execution_count": 49
        }
      ]
    },
    {
      "cell_type": "code",
      "source": [
        "2==2"
      ],
      "metadata": {
        "colab": {
          "base_uri": "https://localhost:8080/"
        },
        "id": "mlVza-V2mGTs",
        "outputId": "1717a5b1-31e8-4c0d-9048-7a67253f3a85"
      },
      "execution_count": null,
      "outputs": [
        {
          "output_type": "execute_result",
          "data": {
            "text/plain": [
              "True"
            ]
          },
          "metadata": {},
          "execution_count": 50
        }
      ]
    },
    {
      "cell_type": "code",
      "source": [
        "\"25\""
      ],
      "metadata": {
        "colab": {
          "base_uri": "https://localhost:8080/",
          "height": 35
        },
        "id": "ZjGl8sLdddyE",
        "outputId": "77cfd765-650a-401c-f5ac-d2c2cd4b4d1c"
      },
      "execution_count": null,
      "outputs": [
        {
          "output_type": "execute_result",
          "data": {
            "text/plain": [
              "'25'"
            ],
            "application/vnd.google.colaboratory.intrinsic+json": {
              "type": "string"
            }
          },
          "metadata": {},
          "execution_count": 15
        }
      ]
    },
    {
      "cell_type": "code",
      "source": [
        "int(\"25\")"
      ],
      "metadata": {
        "colab": {
          "base_uri": "https://localhost:8080/"
        },
        "id": "YMqbN1QydKh_",
        "outputId": "163eb3fb-2405-4fc7-d67f-eb6f3e2016bd"
      },
      "execution_count": null,
      "outputs": [
        {
          "output_type": "execute_result",
          "data": {
            "text/plain": [
              "25"
            ]
          },
          "metadata": {},
          "execution_count": 14
        }
      ]
    },
    {
      "cell_type": "code",
      "source": [
        "float(True)"
      ],
      "metadata": {
        "colab": {
          "base_uri": "https://localhost:8080/"
        },
        "id": "3D10Urv6dkHl",
        "outputId": "b37d84a9-15bc-463f-f6e3-851eba523919"
      },
      "execution_count": null,
      "outputs": [
        {
          "output_type": "execute_result",
          "data": {
            "text/plain": [
              "1.0"
            ]
          },
          "metadata": {},
          "execution_count": 17
        }
      ]
    },
    {
      "cell_type": "code",
      "source": [
        "str(25.8)"
      ],
      "metadata": {
        "colab": {
          "base_uri": "https://localhost:8080/",
          "height": 35
        },
        "id": "df6UyTiBdu73",
        "outputId": "057e96a5-f941-4f2a-e17f-526ca1efeb48"
      },
      "execution_count": null,
      "outputs": [
        {
          "output_type": "execute_result",
          "data": {
            "text/plain": [
              "'25.8'"
            ],
            "application/vnd.google.colaboratory.intrinsic+json": {
              "type": "string"
            }
          },
          "metadata": {},
          "execution_count": 19
        }
      ]
    },
    {
      "cell_type": "code",
      "source": [
        "\"25\"+\"25\""
      ],
      "metadata": {
        "colab": {
          "base_uri": "https://localhost:8080/",
          "height": 35
        },
        "id": "rCsFkwBheN6i",
        "outputId": "e1e3dad5-fb2d-4071-8a84-d9f7d7537939"
      },
      "execution_count": null,
      "outputs": [
        {
          "output_type": "execute_result",
          "data": {
            "text/plain": [
              "'2525'"
            ],
            "application/vnd.google.colaboratory.intrinsic+json": {
              "type": "string"
            }
          },
          "metadata": {},
          "execution_count": 21
        }
      ]
    },
    {
      "cell_type": "markdown",
      "source": [
        "## Other Data Types"
      ],
      "metadata": {
        "id": "zkk5aiND9wji"
      }
    },
    {
      "cell_type": "markdown",
      "source": [
        "### Advance Datatypes\n",
        "* Tuples\n",
        "* Lists\n",
        "* Dictionaries\n",
        "* Sets"
      ],
      "metadata": {
        "id": "laLNyAlQ35DH"
      }
    },
    {
      "cell_type": "markdown",
      "source": [
        "### Other Data Types\n",
        "* None\n",
        "* Complex\n",
        "* Bytes\n",
        "* Bytearray\n",
        "* frozenset"
      ],
      "metadata": {
        "id": "4Bt94mZD8k2i"
      }
    },
    {
      "cell_type": "markdown",
      "source": [
        "#***Variables / Identifier***\n",
        "\n",
        "---"
      ],
      "metadata": {
        "id": "q5LXrTLbhrB2"
      }
    },
    {
      "cell_type": "markdown",
      "source": [
        "##Variable Assignment"
      ],
      "metadata": {
        "id": "qDUYI0AVewHp"
      }
    },
    {
      "cell_type": "code",
      "source": [
        "x=2\n",
        "y=5\n",
        "x*y"
      ],
      "metadata": {
        "colab": {
          "base_uri": "https://localhost:8080/"
        },
        "id": "XSXcXc--eFGf",
        "outputId": "6a9c914e-71fd-4d1e-dc5c-f5625bfc3dac"
      },
      "execution_count": null,
      "outputs": [
        {
          "output_type": "execute_result",
          "data": {
            "text/plain": [
              "10"
            ]
          },
          "metadata": {},
          "execution_count": 22
        }
      ]
    },
    {
      "cell_type": "code",
      "source": [],
      "metadata": {
        "id": "Way0lIkAe8JJ"
      },
      "execution_count": null,
      "outputs": []
    },
    {
      "cell_type": "markdown",
      "source": [
        "## Rules for Identifier\n",
        "* Can contain 0-9, a-z, A-Z and underscore\n",
        "* Cannot start with a digit\n",
        "* Length is unlimited\n",
        "* Case is significant\n",
        "* No keywords"
      ],
      "metadata": {
        "id": "XaAQzREydBrw"
      }
    },
    {
      "cell_type": "markdown",
      "source": [
        "# ***Operators***\n",
        "\n",
        "---\n",
        "\n"
      ],
      "metadata": {
        "id": "4GU6lfdShd-k"
      }
    },
    {
      "cell_type": "markdown",
      "source": [
        "##Assignment operator (=)"
      ],
      "metadata": {
        "id": "22HwNPFZgout"
      }
    },
    {
      "cell_type": "code",
      "source": [
        "a = 10\n",
        "b = 5.6\n",
        "a*b"
      ],
      "metadata": {
        "colab": {
          "base_uri": "https://localhost:8080/"
        },
        "id": "rTkOdWJzeFJX",
        "outputId": "0ac8f455-25a3-4a9e-c6f6-d7a808299421"
      },
      "execution_count": null,
      "outputs": [
        {
          "output_type": "execute_result",
          "data": {
            "text/plain": [
              "56.0"
            ]
          },
          "metadata": {},
          "execution_count": 23
        }
      ]
    },
    {
      "cell_type": "code",
      "source": [
        "a,b = 10, 5.6\n",
        "a*b"
      ],
      "metadata": {
        "colab": {
          "base_uri": "https://localhost:8080/"
        },
        "id": "9lBzaQeEg1nf",
        "outputId": "ddf732bc-9c46-41aa-ba60-c06b736e8cb5"
      },
      "execution_count": null,
      "outputs": [
        {
          "output_type": "execute_result",
          "data": {
            "text/plain": [
              "56.0"
            ]
          },
          "metadata": {},
          "execution_count": 24
        }
      ]
    },
    {
      "cell_type": "code",
      "source": [
        "a=b=c=10\n",
        "a*b*c"
      ],
      "metadata": {
        "colab": {
          "base_uri": "https://localhost:8080/"
        },
        "id": "zCJnXkfbg7HQ",
        "outputId": "44c99a2c-1ddf-41fd-c271-843b69da7e2f"
      },
      "execution_count": null,
      "outputs": [
        {
          "output_type": "execute_result",
          "data": {
            "text/plain": [
              "1000"
            ]
          },
          "metadata": {},
          "execution_count": 25
        }
      ]
    },
    {
      "cell_type": "code",
      "source": [
        "#swap variables\n",
        "a=5\n",
        "b=7\n",
        "a,b=b,a\n",
        "a,b"
      ],
      "metadata": {
        "colab": {
          "base_uri": "https://localhost:8080/"
        },
        "id": "gNQBVS0shFrk",
        "outputId": "b7eb9b98-2662-4f10-9ee6-e84d3e9c00ec"
      },
      "execution_count": null,
      "outputs": [
        {
          "output_type": "execute_result",
          "data": {
            "text/plain": [
              "(7, 5)"
            ]
          },
          "metadata": {},
          "execution_count": 26
        }
      ]
    },
    {
      "cell_type": "markdown",
      "source": [
        "##Arithmetic Operators\n",
        "\n"
      ],
      "metadata": {
        "id": "rbE5gEzWhbFS"
      }
    },
    {
      "cell_type": "markdown",
      "source": [
        "\\+ Addition\n",
        "\n",
        "\\- Subtraction\n",
        "\n",
        "\\* Multiplication\n",
        "\n",
        "\\* * Exponentiation\n",
        "\n",
        "\\/ Division\n",
        "\n",
        "\\// Integer Division\n",
        "\n",
        "\\% Modulus"
      ],
      "metadata": {
        "id": "ZxNUAife30aM"
      }
    },
    {
      "cell_type": "code",
      "source": [
        "1+2"
      ],
      "metadata": {
        "id": "XIpCgLNgdP-B"
      },
      "execution_count": null,
      "outputs": []
    },
    {
      "cell_type": "code",
      "source": [
        "2-1"
      ],
      "metadata": {
        "id": "Ay4AkTGkdQBx"
      },
      "execution_count": null,
      "outputs": []
    },
    {
      "cell_type": "code",
      "source": [
        "3*8"
      ],
      "metadata": {
        "id": "3HhSQ-H9dQDe"
      },
      "execution_count": null,
      "outputs": []
    },
    {
      "cell_type": "code",
      "source": [
        "5/2"
      ],
      "metadata": {
        "id": "d4MR1LuLdQGY",
        "colab": {
          "base_uri": "https://localhost:8080/"
        },
        "outputId": "04bc61fb-72e0-42e5-e923-4b02658b2d25"
      },
      "execution_count": null,
      "outputs": [
        {
          "output_type": "execute_result",
          "data": {
            "text/plain": [
              "2.5"
            ]
          },
          "metadata": {},
          "execution_count": 27
        }
      ]
    },
    {
      "cell_type": "code",
      "source": [
        "5//2"
      ],
      "metadata": {
        "id": "J3mpoEaxeEu_",
        "colab": {
          "base_uri": "https://localhost:8080/"
        },
        "outputId": "1e31a6c4-3946-4502-f0ca-457db941336e"
      },
      "execution_count": null,
      "outputs": [
        {
          "output_type": "execute_result",
          "data": {
            "text/plain": [
              "2"
            ]
          },
          "metadata": {},
          "execution_count": 28
        }
      ]
    },
    {
      "cell_type": "code",
      "source": [
        "5%2"
      ],
      "metadata": {
        "id": "Zw46tJFGeE-H",
        "colab": {
          "base_uri": "https://localhost:8080/"
        },
        "outputId": "3aaad7e8-8c46-4cb5-c30f-553701a80808"
      },
      "execution_count": null,
      "outputs": [
        {
          "output_type": "execute_result",
          "data": {
            "text/plain": [
              "1"
            ]
          },
          "metadata": {},
          "execution_count": 29
        }
      ]
    },
    {
      "cell_type": "code",
      "source": [
        "2**3"
      ],
      "metadata": {
        "id": "J03Eie2YeFCE",
        "colab": {
          "base_uri": "https://localhost:8080/"
        },
        "outputId": "f7f9e2b7-cc29-45f8-a6c1-e3dd20fd9079"
      },
      "execution_count": null,
      "outputs": [
        {
          "output_type": "execute_result",
          "data": {
            "text/plain": [
              "8"
            ]
          },
          "metadata": {},
          "execution_count": 30
        }
      ]
    },
    {
      "cell_type": "code",
      "source": [
        "(2+3)*(8-2)"
      ],
      "metadata": {
        "id": "jHeVlTTKeFDp",
        "colab": {
          "base_uri": "https://localhost:8080/"
        },
        "outputId": "f62a46ec-ea00-4a86-8776-e060f285f5f7"
      },
      "execution_count": null,
      "outputs": [
        {
          "output_type": "execute_result",
          "data": {
            "text/plain": [
              "24"
            ]
          },
          "metadata": {},
          "execution_count": 32
        }
      ]
    },
    {
      "cell_type": "code",
      "source": [],
      "metadata": {
        "id": "s4zg1rdPhZOe"
      },
      "execution_count": null,
      "outputs": []
    },
    {
      "cell_type": "markdown",
      "source": [
        "The order is PEMDAS: Parentheses, Exponents, Multiplication, and Division (from left to right), Addition and Subtraction (from left to right)."
      ],
      "metadata": {
        "id": "tDp5K5g6dB4P"
      }
    },
    {
      "cell_type": "markdown",
      "source": [
        "##Relational Operators (Comparison)\n",
        "< Less than\n",
        "\n",
        "\\> Greater than\n",
        "\n",
        "<= Less than or equal to\n",
        "\n",
        "\\>= Greater than or equal to\n",
        "\n",
        "\\=\\= Equal to\n",
        "\n",
        "!= Not equal to"
      ],
      "metadata": {
        "id": "jbRuV8qYkMSe"
      }
    },
    {
      "cell_type": "code",
      "execution_count": null,
      "metadata": {
        "id": "OKJZ8fIXV0eH",
        "outputId": "bae47025-9133-442f-d10c-dc1c5a3914f4"
      },
      "outputs": [
        {
          "data": {
            "text/plain": [
              "False"
            ]
          },
          "execution_count": 47,
          "metadata": {},
          "output_type": "execute_result"
        }
      ],
      "source": [
        "1 > 2"
      ]
    },
    {
      "cell_type": "code",
      "execution_count": null,
      "metadata": {
        "id": "9qcZi4JrV0eH",
        "outputId": "de9ae8e2-01e6-47ff-8ac5-42fcc9d99473"
      },
      "outputs": [
        {
          "data": {
            "text/plain": [
              "True"
            ]
          },
          "execution_count": 48,
          "metadata": {},
          "output_type": "execute_result"
        }
      ],
      "source": [
        "1 < 2"
      ]
    },
    {
      "cell_type": "code",
      "execution_count": null,
      "metadata": {
        "id": "JRxaWdDoV0eH",
        "outputId": "0666d705-d1ae-4b27-e8ea-7cd4be376f42"
      },
      "outputs": [
        {
          "data": {
            "text/plain": [
              "True"
            ]
          },
          "execution_count": 49,
          "metadata": {},
          "output_type": "execute_result"
        }
      ],
      "source": [
        "1 >= 1"
      ]
    },
    {
      "cell_type": "code",
      "execution_count": null,
      "metadata": {
        "id": "z_M8PZflV0eI",
        "outputId": "c6338f31-ae64-492f-e10c-c3339ff1a57b"
      },
      "outputs": [
        {
          "data": {
            "text/plain": [
              "True"
            ]
          },
          "execution_count": 50,
          "metadata": {},
          "output_type": "execute_result"
        }
      ],
      "source": [
        "1 <= 4"
      ]
    },
    {
      "cell_type": "code",
      "execution_count": null,
      "metadata": {
        "id": "4zgnz53eV0eI",
        "outputId": "fdb3a6dc-e80d-4bb2-8062-c73dc66737af"
      },
      "outputs": [
        {
          "data": {
            "text/plain": [
              "True"
            ]
          },
          "execution_count": 51,
          "metadata": {},
          "output_type": "execute_result"
        }
      ],
      "source": [
        "1 == 1"
      ]
    },
    {
      "cell_type": "code",
      "execution_count": null,
      "metadata": {
        "id": "QjFV4zhUV0eI",
        "outputId": "d7ce066d-6ebb-43d7-c177-4de11a82688f",
        "colab": {
          "base_uri": "https://localhost:8080/"
        }
      },
      "outputs": [
        {
          "output_type": "execute_result",
          "data": {
            "text/plain": [
              "True"
            ]
          },
          "metadata": {},
          "execution_count": 33
        }
      ],
      "source": [
        "'hi' != 'bye'"
      ]
    },
    {
      "cell_type": "markdown",
      "metadata": {
        "id": "h98INJO-V0eI"
      },
      "source": [
        "## Logic Operators\n",
        "\n",
        "and\n",
        "\n",
        "or  \n",
        "\n",
        "not"
      ]
    },
    {
      "cell_type": "code",
      "execution_count": null,
      "metadata": {
        "id": "KJv8J27XV0eI",
        "outputId": "8d88dd9f-8a71-4760-985b-dc7789896561"
      },
      "outputs": [
        {
          "data": {
            "text/plain": [
              "False"
            ]
          },
          "execution_count": 53,
          "metadata": {},
          "output_type": "execute_result"
        }
      ],
      "source": [
        "(1 > 2) and (2 < 3)"
      ]
    },
    {
      "cell_type": "code",
      "execution_count": null,
      "metadata": {
        "id": "3NvUHcipV0eI",
        "outputId": "e72729ee-7ef4-4a95-86f2-e0811faea53d"
      },
      "outputs": [
        {
          "data": {
            "text/plain": [
              "True"
            ]
          },
          "execution_count": 54,
          "metadata": {},
          "output_type": "execute_result"
        }
      ],
      "source": [
        "(1 > 2) or (2 < 3)"
      ]
    },
    {
      "cell_type": "code",
      "execution_count": null,
      "metadata": {
        "id": "-FruwOTHV0eJ",
        "outputId": "d8b50df2-b312-4fb5-9156-9fdadfc37b2b"
      },
      "outputs": [
        {
          "data": {
            "text/plain": [
              "True"
            ]
          },
          "execution_count": 55,
          "metadata": {},
          "output_type": "execute_result"
        }
      ],
      "source": [
        "(1 == 2) or (2 == 3) or (4 == 4)"
      ]
    },
    {
      "cell_type": "code",
      "source": [
        "not(1>2)"
      ],
      "metadata": {
        "colab": {
          "base_uri": "https://localhost:8080/"
        },
        "id": "f_PRXJuMnt7V",
        "outputId": "7e1c60e9-3484-4037-f50f-6fb7fe77422a"
      },
      "execution_count": null,
      "outputs": [
        {
          "output_type": "execute_result",
          "data": {
            "text/plain": [
              "True"
            ]
          },
          "metadata": {},
          "execution_count": 45
        }
      ]
    }
  ]
}