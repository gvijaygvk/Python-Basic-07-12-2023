{
  "nbformat": 4,
  "nbformat_minor": 0,
  "metadata": {
    "colab": {
      "provenance": [],
      "authorship_tag": "ABX9TyNfPszu4mpEMw2Hk6nNj9AZ",
      "include_colab_link": true
    },
    "kernelspec": {
      "name": "python3",
      "display_name": "Python 3"
    },
    "language_info": {
      "name": "python"
    }
  },
  "cells": [
    {
      "cell_type": "markdown",
      "metadata": {
        "id": "view-in-github",
        "colab_type": "text"
      },
      "source": [
        "<a href=\"https://colab.research.google.com/github/gvijaygvk/Python-Basic-07-12-2023/blob/master/Day03/Py4DS_02_String.ipynb\" target=\"_parent\"><img src=\"https://colab.research.google.com/assets/colab-badge.svg\" alt=\"Open In Colab\"/></a>"
      ]
    },
    {
      "cell_type": "markdown",
      "source": [
        "#String Operations"
      ],
      "metadata": {
        "id": "BTsNfpZh-zfG"
      }
    },
    {
      "cell_type": "markdown",
      "source": [
        "## Creating a String"
      ],
      "metadata": {
        "id": "fPwXD_Em_CKC"
      }
    },
    {
      "cell_type": "code",
      "source": [
        "x='This i a string'"
      ],
      "metadata": {
        "id": "ParhwpoklLfJ"
      },
      "execution_count": null,
      "outputs": []
    },
    {
      "cell_type": "code",
      "source": [
        "print(type(x))"
      ],
      "metadata": {
        "id": "1an--vh2inUv"
      },
      "execution_count": null,
      "outputs": []
    },
    {
      "cell_type": "code",
      "source": [
        "\"This is also a string\""
      ],
      "metadata": {
        "id": "KQ28gjEulQQg"
      },
      "execution_count": null,
      "outputs": []
    },
    {
      "cell_type": "code",
      "source": [
        "\"I'm good\""
      ],
      "metadata": {
        "id": "zQJsvkXH_MeU"
      },
      "execution_count": null,
      "outputs": []
    },
    {
      "cell_type": "code",
      "source": [
        "print(\"I'm  \\n good\")"
      ],
      "metadata": {
        "id": "rGdnI92IlUab",
        "colab": {
          "base_uri": "https://localhost:8080/"
        },
        "outputId": "902bf094-1a20-4ce1-d4ef-0ab02e065a3d"
      },
      "execution_count": 9,
      "outputs": [
        {
          "output_type": "stream",
          "name": "stdout",
          "text": [
            "I'm  \\ good\n"
          ]
        }
      ]
    },
    {
      "cell_type": "code",
      "source": [
        "print('He said \\t \"Hello i\\'m \\\" ')"
      ],
      "metadata": {
        "id": "4TeA0iQLlY7F",
        "colab": {
          "base_uri": "https://localhost:8080/"
        },
        "outputId": "92fb4ec9-b74c-469e-bfee-259b5c3d7b7a"
      },
      "execution_count": 15,
      "outputs": [
        {
          "output_type": "stream",
          "name": "stdout",
          "text": [
            "He said \t \"Hello i'm \" \n"
          ]
        }
      ]
    },
    {
      "cell_type": "markdown",
      "source": [
        "## Printing a String"
      ],
      "metadata": {
        "id": "GBZfh-wm_Sx1"
      }
    },
    {
      "cell_type": "code",
      "execution_count": null,
      "metadata": {
        "id": "xx_TTjUI-r1Y"
      },
      "outputs": [],
      "source": [
        "#we can't output multiple strings this way\n",
        "'Hello'\n",
        "'How are you?'"
      ]
    },
    {
      "cell_type": "code",
      "source": [
        "print('Hello' ,'How are you?')"
      ],
      "metadata": {
        "id": "dm3qtf-L_dmz",
        "colab": {
          "base_uri": "https://localhost:8080/"
        },
        "outputId": "e668b8bb-7a98-4210-a520-d5727e464d12"
      },
      "execution_count": 11,
      "outputs": [
        {
          "output_type": "stream",
          "name": "stdout",
          "text": [
            "Hello How are you?\n"
          ]
        }
      ]
    },
    {
      "cell_type": "code",
      "source": [
        "print('Use \\n to print a new line')\n",
        "print('\\n')\n",
        "print('See what I mean?')"
      ],
      "metadata": {
        "id": "WcLc_o_e_wAS",
        "colab": {
          "base_uri": "https://localhost:8080/"
        },
        "outputId": "29e45e6f-ab1e-456c-c4a7-6d88b73dc5c7"
      },
      "execution_count": 12,
      "outputs": [
        {
          "output_type": "stream",
          "name": "stdout",
          "text": [
            "Use \n",
            " to print a new line\n",
            "\n",
            "\n",
            "See what I mean?\n"
          ]
        }
      ]
    },
    {
      "cell_type": "code",
      "source": [
        "print('Use \\\\t to print a tab space')\n",
        "\n",
        "print('See\\twhat\\tI\\tmean?')\n",
        "\n",
        "print('See what I mean?')\n",
        "print('See what I mean?')"
      ],
      "metadata": {
        "id": "r-XGkSiz_0-P",
        "colab": {
          "base_uri": "https://localhost:8080/"
        },
        "outputId": "d90deeca-5b28-41c3-80a1-11533d7f4d11"
      },
      "execution_count": 13,
      "outputs": [
        {
          "output_type": "stream",
          "name": "stdout",
          "text": [
            "Use \\t to print a tab space\n",
            "See\twhat\tI\tmean?\n",
            "See what I mean?\n",
            "See what I mean?\n"
          ]
        }
      ]
    },
    {
      "cell_type": "markdown",
      "source": [
        "## User Inputs"
      ],
      "metadata": {
        "id": "DjqcR88iX_k-"
      }
    },
    {
      "cell_type": "code",
      "source": [
        "x=input(\"Enter your name: \")\n",
        "print(\"Your Name is \"+x)\n",
        "#print(\"Type is:\",type(x))"
      ],
      "metadata": {
        "colab": {
          "base_uri": "https://localhost:8080/"
        },
        "id": "LJbEm1IAX-ow",
        "outputId": "19db923b-bd09-4c8f-f264-a59fd286b729"
      },
      "execution_count": 21,
      "outputs": [
        {
          "output_type": "stream",
          "name": "stdout",
          "text": [
            "Your Name is Enter your name: \n"
          ]
        }
      ]
    },
    {
      "cell_type": "code",
      "source": [
        "print(\"Type is:\",type(x))"
      ],
      "metadata": {
        "id": "SdUl2baUPOQj"
      },
      "execution_count": null,
      "outputs": []
    },
    {
      "cell_type": "code",
      "source": [
        "x*5"
      ],
      "metadata": {
        "id": "pXIKvEDTPfyE"
      },
      "execution_count": null,
      "outputs": []
    },
    {
      "cell_type": "code",
      "source": [
        "int(x)+2"
      ],
      "metadata": {
        "id": "UMix6-eFPudi"
      },
      "execution_count": null,
      "outputs": []
    },
    {
      "cell_type": "code",
      "source": [
        "x=int(input(\"Enter your number: \"))"
      ],
      "metadata": {
        "id": "937KjMhdQCiC"
      },
      "execution_count": null,
      "outputs": []
    },
    {
      "cell_type": "code",
      "source": [
        "print(\"Type is:\",type(x))"
      ],
      "metadata": {
        "id": "ux9fKeHfQIbM"
      },
      "execution_count": null,
      "outputs": []
    },
    {
      "cell_type": "markdown",
      "source": [
        "## String Function"
      ],
      "metadata": {
        "id": "yGmjuHCxCh8u"
      }
    },
    {
      "cell_type": "code",
      "source": [
        "len(\"Hi how are you\")"
      ],
      "metadata": {
        "id": "-gAvehQNCq1h",
        "colab": {
          "base_uri": "https://localhost:8080/"
        },
        "outputId": "7aa31cd6-e02d-478b-ef20-c08204c2332b"
      },
      "execution_count": 22,
      "outputs": [
        {
          "output_type": "execute_result",
          "data": {
            "text/plain": [
              "14"
            ]
          },
          "metadata": {},
          "execution_count": 22
        }
      ]
    },
    {
      "cell_type": "code",
      "source": [
        "x=\"Hi how are you\""
      ],
      "metadata": {
        "id": "luH4lHtnthz2"
      },
      "execution_count": 25,
      "outputs": []
    },
    {
      "cell_type": "code",
      "source": [
        "dir(x)"
      ],
      "metadata": {
        "colab": {
          "base_uri": "https://localhost:8080/"
        },
        "id": "AcaS-orgtlqj",
        "outputId": "378e7cb0-bceb-480f-e960-740e94891e8f"
      },
      "execution_count": 27,
      "outputs": [
        {
          "output_type": "execute_result",
          "data": {
            "text/plain": [
              "['__add__',\n",
              " '__class__',\n",
              " '__contains__',\n",
              " '__delattr__',\n",
              " '__dir__',\n",
              " '__doc__',\n",
              " '__eq__',\n",
              " '__format__',\n",
              " '__ge__',\n",
              " '__getattribute__',\n",
              " '__getitem__',\n",
              " '__getnewargs__',\n",
              " '__gt__',\n",
              " '__hash__',\n",
              " '__init__',\n",
              " '__init_subclass__',\n",
              " '__iter__',\n",
              " '__le__',\n",
              " '__len__',\n",
              " '__lt__',\n",
              " '__mod__',\n",
              " '__mul__',\n",
              " '__ne__',\n",
              " '__new__',\n",
              " '__reduce__',\n",
              " '__reduce_ex__',\n",
              " '__repr__',\n",
              " '__rmod__',\n",
              " '__rmul__',\n",
              " '__setattr__',\n",
              " '__sizeof__',\n",
              " '__str__',\n",
              " '__subclasshook__',\n",
              " 'capitalize',\n",
              " 'casefold',\n",
              " 'center',\n",
              " 'count',\n",
              " 'encode',\n",
              " 'endswith',\n",
              " 'expandtabs',\n",
              " 'find',\n",
              " 'format',\n",
              " 'format_map',\n",
              " 'index',\n",
              " 'isalnum',\n",
              " 'isalpha',\n",
              " 'isascii',\n",
              " 'isdecimal',\n",
              " 'isdigit',\n",
              " 'isidentifier',\n",
              " 'islower',\n",
              " 'isnumeric',\n",
              " 'isprintable',\n",
              " 'isspace',\n",
              " 'istitle',\n",
              " 'isupper',\n",
              " 'join',\n",
              " 'ljust',\n",
              " 'lower',\n",
              " 'lstrip',\n",
              " 'maketrans',\n",
              " 'partition',\n",
              " 'removeprefix',\n",
              " 'removesuffix',\n",
              " 'replace',\n",
              " 'rfind',\n",
              " 'rindex',\n",
              " 'rjust',\n",
              " 'rpartition',\n",
              " 'rsplit',\n",
              " 'rstrip',\n",
              " 'split',\n",
              " 'splitlines',\n",
              " 'startswith',\n",
              " 'strip',\n",
              " 'swapcase',\n",
              " 'title',\n",
              " 'translate',\n",
              " 'upper',\n",
              " 'zfill']"
            ]
          },
          "metadata": {},
          "execution_count": 27
        }
      ]
    },
    {
      "cell_type": "code",
      "source": [
        "x.isdigit()"
      ],
      "metadata": {
        "colab": {
          "base_uri": "https://localhost:8080/"
        },
        "id": "RiFtYWjxt33r",
        "outputId": "b51e8b51-6791-4871-ad4d-9e52368e230a"
      },
      "execution_count": 30,
      "outputs": [
        {
          "output_type": "execute_result",
          "data": {
            "text/plain": [
              "False"
            ]
          },
          "metadata": {},
          "execution_count": 30
        }
      ]
    },
    {
      "cell_type": "code",
      "source": [
        "y=\"asd@90\"\n",
        "y.isalnum()"
      ],
      "metadata": {
        "colab": {
          "base_uri": "https://localhost:8080/"
        },
        "id": "SRNlTfdiuCxI",
        "outputId": "b300580b-ffd2-4518-df96-8f11b99195e8"
      },
      "execution_count": 35,
      "outputs": [
        {
          "output_type": "execute_result",
          "data": {
            "text/plain": [
              "False"
            ]
          },
          "metadata": {},
          "execution_count": 35
        }
      ]
    },
    {
      "cell_type": "markdown",
      "source": [
        "## String Indexing"
      ],
      "metadata": {
        "id": "r32zkdKzBq9v"
      }
    },
    {
      "cell_type": "code",
      "source": [
        "s = \"Hi how are you\""
      ],
      "metadata": {
        "id": "H0m1_6S4CV2Q"
      },
      "execution_count": null,
      "outputs": []
    },
    {
      "cell_type": "code",
      "source": [
        "s"
      ],
      "metadata": {
        "id": "MNQ3yIJ6ezsa"
      },
      "execution_count": null,
      "outputs": []
    },
    {
      "cell_type": "code",
      "source": [
        "s[0]"
      ],
      "metadata": {
        "id": "e0NerocHe3rk"
      },
      "execution_count": null,
      "outputs": []
    },
    {
      "cell_type": "code",
      "source": [
        "s[1]"
      ],
      "metadata": {
        "id": "n6s4oOkDe4GC"
      },
      "execution_count": null,
      "outputs": []
    },
    {
      "cell_type": "code",
      "source": [
        "s[-1]"
      ],
      "metadata": {
        "id": "gSbOkC_ee4g8"
      },
      "execution_count": null,
      "outputs": []
    },
    {
      "cell_type": "code",
      "source": [
        "s[-3]"
      ],
      "metadata": {
        "id": "65vMbskQe48d"
      },
      "execution_count": null,
      "outputs": []
    },
    {
      "cell_type": "markdown",
      "source": [
        "## String Slicing"
      ],
      "metadata": {
        "id": "AI_c1_ebCeUF"
      }
    },
    {
      "cell_type": "code",
      "source": [
        "s[3:]"
      ],
      "metadata": {
        "id": "o__xFgXeffhn"
      },
      "execution_count": null,
      "outputs": []
    },
    {
      "cell_type": "code",
      "source": [
        "s[-7:]"
      ],
      "metadata": {
        "id": "qEkQ0L4NfgE4"
      },
      "execution_count": null,
      "outputs": []
    },
    {
      "cell_type": "code",
      "source": [
        "s[0:2]"
      ],
      "metadata": {
        "id": "SFK42NeGfg2T"
      },
      "execution_count": null,
      "outputs": []
    },
    {
      "cell_type": "code",
      "source": [
        "# Str [start : end:increment]"
      ],
      "metadata": {
        "id": "m0vaO71cluTP"
      },
      "execution_count": null,
      "outputs": []
    },
    {
      "cell_type": "code",
      "source": [
        "s[3:6]"
      ],
      "metadata": {
        "id": "DE0tlJpJfiUN"
      },
      "execution_count": null,
      "outputs": []
    },
    {
      "cell_type": "code",
      "source": [
        "s[-7:-4]"
      ],
      "metadata": {
        "id": "xCrWCfEKgZh5"
      },
      "execution_count": null,
      "outputs": []
    },
    {
      "cell_type": "code",
      "source": [
        "s[0:14:2]"
      ],
      "metadata": {
        "id": "XbTqNJx-gUlo"
      },
      "execution_count": null,
      "outputs": []
    },
    {
      "cell_type": "markdown",
      "source": [
        "## String Properties"
      ],
      "metadata": {
        "id": "6iNjhK15BsJJ"
      }
    },
    {
      "cell_type": "markdown",
      "source": [
        "String is immutable"
      ],
      "metadata": {
        "id": "nPyZdUdDj72c"
      }
    },
    {
      "cell_type": "code",
      "source": [
        "s[0] = \"h\""
      ],
      "metadata": {
        "id": "VRDzoqEzgUGZ"
      },
      "execution_count": null,
      "outputs": []
    },
    {
      "cell_type": "markdown",
      "source": [
        "## Basic String methods\n"
      ],
      "metadata": {
        "id": "p5QXSxzjBsje"
      }
    },
    {
      "cell_type": "code",
      "source": [
        "s=\"I am doing good\""
      ],
      "metadata": {
        "id": "xYKzIIM8U1hu"
      },
      "execution_count": null,
      "outputs": []
    },
    {
      "cell_type": "code",
      "source": [
        "s*5"
      ],
      "metadata": {
        "id": "wkQG2RNCU6S1"
      },
      "execution_count": null,
      "outputs": []
    },
    {
      "cell_type": "code",
      "source": [
        "s.isalpha()"
      ],
      "metadata": {
        "id": "_gyvblXQXK7x"
      },
      "execution_count": null,
      "outputs": []
    },
    {
      "cell_type": "code",
      "source": [
        "dir(s)"
      ],
      "metadata": {
        "id": "3b02LtI_XQkG"
      },
      "execution_count": null,
      "outputs": []
    },
    {
      "cell_type": "code",
      "source": [
        "s[1].isalpha()"
      ],
      "metadata": {
        "id": "-tRKff6UWiNx"
      },
      "execution_count": null,
      "outputs": []
    },
    {
      "cell_type": "code",
      "source": [
        "y=s.replace(\" \",\"z\")"
      ],
      "metadata": {
        "id": "W2h0irXKVqyy"
      },
      "execution_count": null,
      "outputs": []
    },
    {
      "cell_type": "code",
      "source": [
        "print(y)\n",
        "y.isalpha()"
      ],
      "metadata": {
        "id": "0PxbrkRAVfoO"
      },
      "execution_count": null,
      "outputs": []
    },
    {
      "cell_type": "code",
      "source": [
        "s.upper()"
      ],
      "metadata": {
        "id": "xxZlHANLUn9x"
      },
      "execution_count": null,
      "outputs": []
    },
    {
      "cell_type": "code",
      "source": [
        "s.lower()"
      ],
      "metadata": {
        "id": "IgPTSCndUrVk"
      },
      "execution_count": null,
      "outputs": []
    },
    {
      "cell_type": "code",
      "source": [
        "s.split(\"a\")"
      ],
      "metadata": {
        "id": "9OltsjINUtOL"
      },
      "execution_count": null,
      "outputs": []
    },
    {
      "cell_type": "code",
      "source": [
        "print(s)\n",
        "s.find('i')"
      ],
      "metadata": {
        "id": "34848M0qjQZl"
      },
      "execution_count": null,
      "outputs": []
    },
    {
      "cell_type": "code",
      "source": [
        "s.index(\"h\")"
      ],
      "metadata": {
        "id": "vMz2CUfTkiTf"
      },
      "execution_count": null,
      "outputs": []
    },
    {
      "cell_type": "code",
      "source": [
        "s.count('o')"
      ],
      "metadata": {
        "id": "E4qp4AscjxZ2"
      },
      "execution_count": null,
      "outputs": []
    },
    {
      "cell_type": "code",
      "source": [
        "s.find('hi')"
      ],
      "metadata": {
        "id": "NJEhWMiVkmhW"
      },
      "execution_count": null,
      "outputs": []
    },
    {
      "cell_type": "markdown",
      "source": [
        "## All String Functions\n",
        "*dir()"
      ],
      "metadata": {
        "id": "H_zVOjeAbx6u"
      }
    },
    {
      "cell_type": "code",
      "source": [
        "dir(str)"
      ],
      "metadata": {
        "id": "NtReGNc0b6S9"
      },
      "execution_count": null,
      "outputs": []
    },
    {
      "cell_type": "code",
      "source": [],
      "metadata": {
        "id": "VwrGyFVBkp7d"
      },
      "execution_count": null,
      "outputs": []
    }
  ]
}